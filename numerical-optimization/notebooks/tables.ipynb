{
 "cells": [
  {
   "cell_type": "code",
   "execution_count": 3,
   "metadata": {},
   "outputs": [],
   "source": [
    "import pandas as pd\n",
    "import matplotlib.pyplot as plt\n",
    "import numpy as np\n",
    "import os\n",
    "\n",
    "header = ['i', 'success', 'method', 'preconditioning', 'dimension', 'point_number',\n",
    "          'exact', 'h', 'absolute', 'fk', 'gradfk', 'k', 'time']\n",
    "results_dir = '../results_exact'\n",
    "\n",
    "method_mapper = {\n",
    "    0: 'Modified Newton',\n",
    "    1: 'Truncated Newton',\n",
    "}"
   ]
  },
  {
   "cell_type": "code",
   "execution_count": 4,
   "metadata": {},
   "outputs": [],
   "source": [
    "def load_results(func):\n",
    "    path = os.path.join(results_dir, func, 'results.csv')\n",
    "    df = pd.read_csv(path, names=header)\n",
    "    df.method = df.method.apply(lambda x: method_mapper[x])\n",
    "    df.preconditioning = df.preconditioning.astype(bool)\n",
    "    df.exact = df.exact.astype(bool)\n",
    "    df.absolute = df.absolute.astype(bool)\n",
    "    df.loc[:, 'fname'] = df.i.apply(lambda x: f\"experiment_{x}.csv\")\n",
    "    df.set_index('i', inplace=True)\n",
    "    for i, file in df.fname.items():\n",
    "        path = os.path.join(results_dir, func, file)\n",
    "        data = pd.read_csv(path)\n",
    "        try:\n",
    "            errors = data['error_norm'].iloc[-3:].values\n",
    "            rate = np.log(errors[2]/errors[1]) / np.log(errors[1]/errors[0])\n",
    "        except:\n",
    "            rate = np.nan\n",
    "        df.loc[i, 'rate'] = rate\n",
    "    return df"
   ]
  },
  {
   "cell_type": "code",
   "execution_count": null,
   "metadata": {},
   "outputs": [
    {
     "ename": "SyntaxError",
     "evalue": "f-string: expecting '}' (37281768.py, line 41)",
     "output_type": "error",
     "traceback": [
      "\u001b[0;36m  Cell \u001b[0;32mIn[5], line 41\u001b[0;36m\u001b[0m\n\u001b[0;31m    differentiation_text = f\"with {\"relative\" if relative else \"absolute\"} finite differences\"\u001b[0m\n\u001b[0m                                    ^\u001b[0m\n\u001b[0;31mSyntaxError\u001b[0m\u001b[0;31m:\u001b[0m f-string: expecting '}'\n"
     ]
    }
   ],
   "source": [
    "def avg_table(df, method, exact, fname, absolute=None):\n",
    "    table_df = df[\n",
    "        (df.method == method) &\n",
    "        (df.exact == exact)\n",
    "    ]\n",
    "    # If finite differences, filter by h and add text\n",
    "    if exact:\n",
    "        differentiation_text = \"with exact gradient and hessian\"\n",
    "        grouping = ['dimension', 'preconditioning']\n",
    "    else:\n",
    "        table_df = table_df[df.absolute == absolute]\n",
    "        differentiation_text = f\"with {\"absolute\" if absolute else \"relative\"} finite differences\"\n",
    "        grouping = ['dimension', 'h', 'preconditioning']\n",
    "        table_df.h = table_df.h.apply(lambda x: f\"{x:.0e}\")\n",
    "    # Compute success rate and filter out unsuccessful attempts\n",
    "    success_series = table_df.groupby(grouping).success.mean()\n",
    "    table_df = table_df[table_df.success == 1]\n",
    "    # Compute average metrics\n",
    "    table_df = table_df.groupby(grouping)[['k', 'rate', 'time']].mean()\n",
    "    table_df[['k', 'rate', 'time']] = table_df[['k', 'rate', 'time']].map(lambda x: f\"{x:.2f}\")\n",
    "    # Add success rate to the table\n",
    "    success_series = success_series.apply(lambda x: f\"{x:.2f}\")\n",
    "    table_df = table_df.join(success_series).rename(\n",
    "        {'success': 'success rate', 'rate': 'convergence rate', 'k': 'iterations'}, axis=1).unstack()\n",
    "    text = table_df.to_latex(\n",
    "        multicolumn_format='c',\n",
    "        column_format = 'r' if exact else 'rr' + 'c'*table_df.shape[1],\n",
    "        caption=f\"Results for {method} method applied to {fname} {differentiation_text}, metrics are average metrics for succesful attempts.\",\n",
    "        label=f\"tab:{method}_{fname}_{'exact' if exact else 'fd'}\".replace(' ', '_'))\n",
    "    text = text[:13] + \"\\n\\\\centering\" + text[13:]\n",
    "    return table_df, text"
   ]
  },
  {
   "cell_type": "code",
   "execution_count": 6,
   "metadata": {},
   "outputs": [
    {
     "name": "stdout",
     "output_type": "stream",
     "text": [
      "\\begin{table}\n",
      "\\centering\n",
      "\\caption{Results for Modified Newton method applied to Extended Rosenbrock with exact gradient and hessian, metrics are average metrics for succesful attempts.}\n",
      "\\label{tab:Modified_Newton_Extended_Rosenbrock_exact}\n",
      "\\begin{tabular}{r}\n",
      "\\toprule\n",
      " & \\multicolumn{2}{c}{iterations} & \\multicolumn{2}{c}{convergence rate} & \\multicolumn{2}{c}{time} & \\multicolumn{2}{c}{success rate} \\\\\n",
      "preconditioning & False & True & False & True & False & True & False & True \\\\\n",
      "dimension &  &  &  &  &  &  &  &  \\\\\n",
      "\\midrule\n",
      "3 & 31.91 & 28.91 & 1.99 & 1.51 & 0.03 & 0.02 & 1.00 & 1.00 \\\\\n",
      "4 & 32.36 & 29.18 & 2.10 & 2.04 & 0.11 & 0.08 & 1.00 & 1.00 \\\\\n",
      "5 & 32.64 & 30.09 & 2.09 & 2.12 & 1.04 & 0.65 & 1.00 & 1.00 \\\\\n",
      "\\bottomrule\n",
      "\\end{tabular}\n",
      "\\end{table}\n",
      "\n",
      "\n",
      "\\begin{table}\n",
      "\\centering\n",
      "\\caption{Results for Truncated Newton method applied to Extended Rosenbrock with exact gradient and hessian, metrics are average metrics for succesful attempts.}\n",
      "\\label{tab:Truncated_Newton_Extended_Rosenbrock_exact}\n",
      "\\begin{tabular}{r}\n",
      "\\toprule\n",
      " & \\multicolumn{2}{c}{iterations} & \\multicolumn{2}{c}{convergence rate} & \\multicolumn{2}{c}{time} & \\multicolumn{2}{c}{success rate} \\\\\n",
      "preconditioning & False & True & False & True & False & True & False & True \\\\\n",
      "dimension &  &  &  &  &  &  &  &  \\\\\n",
      "\\midrule\n",
      "3 & 50.09 & 31.00 & -2.66 & 11.55 & 0.01 & 0.01 & 1.00 & 1.00 \\\\\n",
      "4 & 57.27 & 34.73 & -3.06 & 4.33 & 0.05 & 0.03 & 1.00 & 1.00 \\\\\n",
      "5 & 69.27 & 48.64 & -2.45 & -29.26 & 0.56 & 0.41 & 1.00 & 1.00 \\\\\n",
      "\\bottomrule\n",
      "\\end{tabular}\n",
      "\\end{table}\n",
      "\n",
      "\n"
     ]
    },
    {
     "ename": "AttributeError",
     "evalue": "'DataFrame' object has no attribute 'relative'",
     "output_type": "error",
     "traceback": [
      "\u001b[0;31m---------------------------------------------------------------------------\u001b[0m",
      "\u001b[0;31mAttributeError\u001b[0m                            Traceback (most recent call last)",
      "\u001b[0;32m/tmp/ipykernel_483282/1406581272.py\u001b[0m in \u001b[0;36m?\u001b[0;34m()\u001b[0m\n\u001b[1;32m     18\u001b[0m         \u001b[0mprint\u001b[0m\u001b[0;34m(\u001b[0m\u001b[0;34m)\u001b[0m\u001b[0;34m\u001b[0m\u001b[0;34m\u001b[0m\u001b[0m\n\u001b[1;32m     19\u001b[0m         \u001b[0mi\u001b[0m \u001b[0;34m+=\u001b[0m \u001b[0;36m1\u001b[0m\u001b[0;34m\u001b[0m\u001b[0;34m\u001b[0m\u001b[0m\n\u001b[1;32m     20\u001b[0m     \u001b[0;32mfor\u001b[0m \u001b[0mmethod\u001b[0m \u001b[0;32min\u001b[0m \u001b[0mmethods\u001b[0m\u001b[0;34m:\u001b[0m\u001b[0;34m\u001b[0m\u001b[0;34m\u001b[0m\u001b[0m\n\u001b[1;32m     21\u001b[0m         \u001b[0;32mfor\u001b[0m \u001b[0mrelative\u001b[0m \u001b[0;32min\u001b[0m \u001b[0;34m[\u001b[0m\u001b[0;32mFalse\u001b[0m\u001b[0;34m,\u001b[0m \u001b[0;32mTrue\u001b[0m\u001b[0;34m]\u001b[0m\u001b[0;34m:\u001b[0m\u001b[0;34m\u001b[0m\u001b[0;34m\u001b[0m\u001b[0m\n\u001b[0;32m---> 22\u001b[0;31m             \u001b[0mtable_df\u001b[0m\u001b[0;34m,\u001b[0m \u001b[0mtext\u001b[0m \u001b[0;34m=\u001b[0m \u001b[0mavg_table2\u001b[0m\u001b[0;34m(\u001b[0m\u001b[0mdf\u001b[0m\u001b[0;34m,\u001b[0m \u001b[0mmethod\u001b[0m\u001b[0;34m,\u001b[0m \u001b[0;32mFalse\u001b[0m\u001b[0;34m,\u001b[0m \u001b[0mfname\u001b[0m\u001b[0;34m,\u001b[0m \u001b[0mrelative\u001b[0m\u001b[0;34m)\u001b[0m\u001b[0;34m\u001b[0m\u001b[0;34m\u001b[0m\u001b[0m\n\u001b[0m\u001b[1;32m     23\u001b[0m             \u001b[0mprint\u001b[0m\u001b[0;34m(\u001b[0m\u001b[0mtext\u001b[0m\u001b[0;34m)\u001b[0m\u001b[0;34m\u001b[0m\u001b[0;34m\u001b[0m\u001b[0m\n\u001b[1;32m     24\u001b[0m             \u001b[0mprint\u001b[0m\u001b[0;34m(\u001b[0m\u001b[0;34m)\u001b[0m\u001b[0;34m\u001b[0m\u001b[0;34m\u001b[0m\u001b[0m\n\u001b[1;32m     25\u001b[0m             \u001b[0mi\u001b[0m \u001b[0;34m+=\u001b[0m \u001b[0;36m1\u001b[0m\u001b[0;34m\u001b[0m\u001b[0;34m\u001b[0m\u001b[0m\n",
      "\u001b[0;32m/tmp/ipykernel_483282/4238142413.py\u001b[0m in \u001b[0;36m?\u001b[0;34m(df, method, exact, fname, relative)\u001b[0m\n\u001b[1;32m     36\u001b[0m     \u001b[0;32mif\u001b[0m \u001b[0mexact\u001b[0m\u001b[0;34m:\u001b[0m\u001b[0;34m\u001b[0m\u001b[0;34m\u001b[0m\u001b[0m\n\u001b[1;32m     37\u001b[0m         \u001b[0mdifferentiation_text\u001b[0m \u001b[0;34m=\u001b[0m \u001b[0;34m\"with exact gradient and hessian\"\u001b[0m\u001b[0;34m\u001b[0m\u001b[0;34m\u001b[0m\u001b[0m\n\u001b[1;32m     38\u001b[0m         \u001b[0mgrouping\u001b[0m \u001b[0;34m=\u001b[0m \u001b[0;34m[\u001b[0m\u001b[0;34m'dimension'\u001b[0m\u001b[0;34m,\u001b[0m \u001b[0;34m'preconditioning'\u001b[0m\u001b[0;34m]\u001b[0m\u001b[0;34m\u001b[0m\u001b[0;34m\u001b[0m\u001b[0m\n\u001b[1;32m     39\u001b[0m     \u001b[0;32melse\u001b[0m\u001b[0;34m:\u001b[0m\u001b[0;34m\u001b[0m\u001b[0;34m\u001b[0m\u001b[0m\n\u001b[0;32m---> 40\u001b[0;31m         \u001b[0mtable_df\u001b[0m \u001b[0;34m=\u001b[0m \u001b[0mtable_df\u001b[0m\u001b[0;34m[\u001b[0m\u001b[0mtable_df\u001b[0m\u001b[0;34m.\u001b[0m\u001b[0mrelative\u001b[0m \u001b[0;34m==\u001b[0m \u001b[0mrelative\u001b[0m\u001b[0;34m]\u001b[0m\u001b[0;34m\u001b[0m\u001b[0;34m\u001b[0m\u001b[0m\n\u001b[0m\u001b[1;32m     41\u001b[0m         \u001b[0mdifferentiation_text\u001b[0m \u001b[0;34m=\u001b[0m \u001b[0;34mf\"with relative finite differences\"\u001b[0m\u001b[0;34m\u001b[0m\u001b[0;34m\u001b[0m\u001b[0m\n\u001b[1;32m     42\u001b[0m         \u001b[0mgrouping\u001b[0m \u001b[0;34m=\u001b[0m \u001b[0;34m[\u001b[0m\u001b[0;34m'dimension'\u001b[0m\u001b[0;34m,\u001b[0m \u001b[0;34m'h'\u001b[0m\u001b[0;34m,\u001b[0m \u001b[0;34m'preconditioning'\u001b[0m\u001b[0;34m]\u001b[0m\u001b[0;34m\u001b[0m\u001b[0;34m\u001b[0m\u001b[0m\n\u001b[1;32m     43\u001b[0m         \u001b[0mtable_df\u001b[0m\u001b[0;34m.\u001b[0m\u001b[0mh\u001b[0m \u001b[0;34m=\u001b[0m \u001b[0mtable_df\u001b[0m\u001b[0;34m.\u001b[0m\u001b[0mh\u001b[0m\u001b[0;34m.\u001b[0m\u001b[0mapply\u001b[0m\u001b[0;34m(\u001b[0m\u001b[0;32mlambda\u001b[0m \u001b[0mx\u001b[0m\u001b[0;34m:\u001b[0m \u001b[0;34mf\"{x:.0e}\"\u001b[0m\u001b[0;34m)\u001b[0m\u001b[0;34m\u001b[0m\u001b[0;34m\u001b[0m\u001b[0m\n",
      "\u001b[0;32m~/Progetti/NumericalOptimization4LSP/.conda/lib/python3.10/site-packages/pandas/core/generic.py\u001b[0m in \u001b[0;36m?\u001b[0;34m(self, name)\u001b[0m\n\u001b[1;32m   6295\u001b[0m             \u001b[0;32mand\u001b[0m \u001b[0mname\u001b[0m \u001b[0;32mnot\u001b[0m \u001b[0;32min\u001b[0m \u001b[0mself\u001b[0m\u001b[0;34m.\u001b[0m\u001b[0m_accessors\u001b[0m\u001b[0;34m\u001b[0m\u001b[0;34m\u001b[0m\u001b[0m\n\u001b[1;32m   6296\u001b[0m             \u001b[0;32mand\u001b[0m \u001b[0mself\u001b[0m\u001b[0;34m.\u001b[0m\u001b[0m_info_axis\u001b[0m\u001b[0;34m.\u001b[0m\u001b[0m_can_hold_identifiers_and_holds_name\u001b[0m\u001b[0;34m(\u001b[0m\u001b[0mname\u001b[0m\u001b[0;34m)\u001b[0m\u001b[0;34m\u001b[0m\u001b[0;34m\u001b[0m\u001b[0m\n\u001b[1;32m   6297\u001b[0m         ):\n\u001b[1;32m   6298\u001b[0m             \u001b[0;32mreturn\u001b[0m \u001b[0mself\u001b[0m\u001b[0;34m[\u001b[0m\u001b[0mname\u001b[0m\u001b[0;34m]\u001b[0m\u001b[0;34m\u001b[0m\u001b[0;34m\u001b[0m\u001b[0m\n\u001b[0;32m-> 6299\u001b[0;31m         \u001b[0;32mreturn\u001b[0m \u001b[0mobject\u001b[0m\u001b[0;34m.\u001b[0m\u001b[0m__getattribute__\u001b[0m\u001b[0;34m(\u001b[0m\u001b[0mself\u001b[0m\u001b[0;34m,\u001b[0m \u001b[0mname\u001b[0m\u001b[0;34m)\u001b[0m\u001b[0;34m\u001b[0m\u001b[0;34m\u001b[0m\u001b[0m\n\u001b[0m",
      "\u001b[0;31mAttributeError\u001b[0m: 'DataFrame' object has no attribute 'relative'"
     ]
    }
   ],
   "source": [
    "functions = ['extended_rosenbrock', 'generalized_broyden', 'banded_trigonometric']\n",
    "fnames = ['Extended Rosenbrock', 'Generalized Broyden', 'Banded Trigonometric']\n",
    "methods = ['Modified Newton', 'Truncated Newton']\n",
    "exacts = [True, False]\n",
    "hs = [10**x for x in range(-2, -14, -2)]\n",
    "relatives = [True, False]\n",
    "i = 0\n",
    "\n",
    "for func, fname in zip(functions, fnames):\n",
    "    try:\n",
    "        df = load_results(func)\n",
    "    except:\n",
    "        print(f\"Missing function {fname}\")\n",
    "        continue\n",
    "    for method in methods:\n",
    "        table_df, text = avg_table2(df, method, True, fname)\n",
    "        print(text)\n",
    "        print()\n",
    "        i += 1\n",
    "    for method in methods:\n",
    "        for relative in [False, True]:\n",
    "            table_df, text = avg_table2(df, method, False, fname, relative)\n",
    "            print(text)\n",
    "            print()\n",
    "            i += 1"
   ]
  }
 ],
 "metadata": {
  "kernelspec": {
   "display_name": "Python 3",
   "language": "python",
   "name": "python3"
  },
  "language_info": {
   "codemirror_mode": {
    "name": "ipython",
    "version": 3
   },
   "file_extension": ".py",
   "mimetype": "text/x-python",
   "name": "python",
   "nbconvert_exporter": "python",
   "pygments_lexer": "ipython3",
   "version": "3.10.15"
  }
 },
 "nbformat": 4,
 "nbformat_minor": 2
}
